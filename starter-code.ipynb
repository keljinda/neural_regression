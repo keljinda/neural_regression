{
 "cells": [
  {
   "cell_type": "markdown",
   "metadata": {},
   "source": [
    "<img src=\"http://imgur.com/1ZcRyrc.png\" style=\"float: left; margin: 20px; height: 55px\">\n",
    "\n",
    "# Intro to Regression with Tensorflow & Keras\n",
    "\n",
    "------\n"
   ]
  },
  {
   "cell_type": "markdown",
   "metadata": {},
   "source": [
    "### OBJECTIVES\n",
    "\n",
    "- Build regression models using `tensorflow` & `keras`\n",
    "- Refine models by adjusting the architecture of a network\n",
    "- Use regularization to attempt performance improvement\n",
    "- Save the model"
   ]
  },
  {
   "cell_type": "code",
   "execution_count": 3,
   "metadata": {},
   "outputs": [],
   "source": [
    "import pandas as pd\n",
    "import numpy as np\n",
    "import matplotlib.pyplot as plt\n",
    "\n",
    "from sklearn.datasets import fetch_california_housing\n",
    "from sklearn.model_selection import train_test_split\n",
    "from sklearn.preprocessing import StandardScaler\n",
    "from sklearn.metrics import root_mean_squared_error\n",
    "\n",
    "# Sequential allows us to build neural networks by stacking layers linearly\n",
    "from tensorflow.keras.models import Sequential\n",
    "\n",
    "\n",
    "# Import core layer types from Keras:\n",
    "# - Dense: Standard fully-connected neural network layer\n",
    "# - Dropout: Randomly sets input units to 0 during training (prevents overfitting)\n",
    "# - BatchNormalization: Normalizes and scales inputs for each mini-batch (improves training stability)\n",
    "from tensorflow.keras.layers import Dense, Dropout, BatchNormalization , Input\n",
    "\n",
    "from tensorflow.keras.callbacks import EarlyStopping\n",
    " \n",
    "# Import regularization functions from Keras:\n",
    "# - l1: Lasso Regularization (adds absolute value of weights to loss)\n",
    "# - l2: Ridge Regularization (adds squared value of weights to loss) \n",
    "# - l1_l2: Elastic Net Regularization (combines both l1 and l2)\n",
    "# All of these help prevent overfitting by penalizing large weights\n",
    "from tensorflow.keras.regularizers import l1, l2, l1_l2"
   ]
  },
  {
   "cell_type": "code",
   "execution_count": 4,
   "metadata": {},
   "outputs": [],
   "source": [
    "cali = fetch_california_housing()\n",
    "X, y = cali.data, cali.target"
   ]
  },
  {
   "cell_type": "markdown",
   "metadata": {},
   "source": [
    "### Part 1\n",
    "\n",
    "- Load in the California housing data into a Pandas DataFrame called `cali_df`.\n",
    "- Add the target as a column named `price`"
   ]
  },
  {
   "cell_type": "code",
   "execution_count": 6,
   "metadata": {},
   "outputs": [],
   "source": [
    "cali_df = pd.DataFrame(cali.data, columns=cali.feature_names)"
   ]
  },
  {
   "cell_type": "code",
   "execution_count": 7,
   "metadata": {},
   "outputs": [],
   "source": [
    "cali_df['price'] = cali.target"
   ]
  },
  {
   "cell_type": "code",
   "execution_count": 8,
   "metadata": {},
   "outputs": [
    {
     "data": {
      "text/html": [
       "<div>\n",
       "<style scoped>\n",
       "    .dataframe tbody tr th:only-of-type {\n",
       "        vertical-align: middle;\n",
       "    }\n",
       "\n",
       "    .dataframe tbody tr th {\n",
       "        vertical-align: top;\n",
       "    }\n",
       "\n",
       "    .dataframe thead th {\n",
       "        text-align: right;\n",
       "    }\n",
       "</style>\n",
       "<table border=\"1\" class=\"dataframe\">\n",
       "  <thead>\n",
       "    <tr style=\"text-align: right;\">\n",
       "      <th></th>\n",
       "      <th>MedInc</th>\n",
       "      <th>HouseAge</th>\n",
       "      <th>AveRooms</th>\n",
       "      <th>AveBedrms</th>\n",
       "      <th>Population</th>\n",
       "      <th>AveOccup</th>\n",
       "      <th>Latitude</th>\n",
       "      <th>Longitude</th>\n",
       "      <th>price</th>\n",
       "    </tr>\n",
       "  </thead>\n",
       "  <tbody>\n",
       "    <tr>\n",
       "      <th>0</th>\n",
       "      <td>8.3252</td>\n",
       "      <td>41.0</td>\n",
       "      <td>6.984127</td>\n",
       "      <td>1.023810</td>\n",
       "      <td>322.0</td>\n",
       "      <td>2.555556</td>\n",
       "      <td>37.88</td>\n",
       "      <td>-122.23</td>\n",
       "      <td>4.526</td>\n",
       "    </tr>\n",
       "    <tr>\n",
       "      <th>1</th>\n",
       "      <td>8.3014</td>\n",
       "      <td>21.0</td>\n",
       "      <td>6.238137</td>\n",
       "      <td>0.971880</td>\n",
       "      <td>2401.0</td>\n",
       "      <td>2.109842</td>\n",
       "      <td>37.86</td>\n",
       "      <td>-122.22</td>\n",
       "      <td>3.585</td>\n",
       "    </tr>\n",
       "    <tr>\n",
       "      <th>2</th>\n",
       "      <td>7.2574</td>\n",
       "      <td>52.0</td>\n",
       "      <td>8.288136</td>\n",
       "      <td>1.073446</td>\n",
       "      <td>496.0</td>\n",
       "      <td>2.802260</td>\n",
       "      <td>37.85</td>\n",
       "      <td>-122.24</td>\n",
       "      <td>3.521</td>\n",
       "    </tr>\n",
       "    <tr>\n",
       "      <th>3</th>\n",
       "      <td>5.6431</td>\n",
       "      <td>52.0</td>\n",
       "      <td>5.817352</td>\n",
       "      <td>1.073059</td>\n",
       "      <td>558.0</td>\n",
       "      <td>2.547945</td>\n",
       "      <td>37.85</td>\n",
       "      <td>-122.25</td>\n",
       "      <td>3.413</td>\n",
       "    </tr>\n",
       "    <tr>\n",
       "      <th>4</th>\n",
       "      <td>3.8462</td>\n",
       "      <td>52.0</td>\n",
       "      <td>6.281853</td>\n",
       "      <td>1.081081</td>\n",
       "      <td>565.0</td>\n",
       "      <td>2.181467</td>\n",
       "      <td>37.85</td>\n",
       "      <td>-122.25</td>\n",
       "      <td>3.422</td>\n",
       "    </tr>\n",
       "  </tbody>\n",
       "</table>\n",
       "</div>"
      ],
      "text/plain": [
       "   MedInc  HouseAge  AveRooms  AveBedrms  Population  AveOccup  Latitude  \\\n",
       "0  8.3252      41.0  6.984127   1.023810       322.0  2.555556     37.88   \n",
       "1  8.3014      21.0  6.238137   0.971880      2401.0  2.109842     37.86   \n",
       "2  7.2574      52.0  8.288136   1.073446       496.0  2.802260     37.85   \n",
       "3  5.6431      52.0  5.817352   1.073059       558.0  2.547945     37.85   \n",
       "4  3.8462      52.0  6.281853   1.081081       565.0  2.181467     37.85   \n",
       "\n",
       "   Longitude  price  \n",
       "0    -122.23  4.526  \n",
       "1    -122.22  3.585  \n",
       "2    -122.24  3.521  \n",
       "3    -122.25  3.413  \n",
       "4    -122.25  3.422  "
      ]
     },
     "execution_count": 8,
     "metadata": {},
     "output_type": "execute_result"
    }
   ],
   "source": [
    "cali_df.head()"
   ]
  },
  {
   "cell_type": "markdown",
   "metadata": {},
   "source": [
    "### Part 2\n",
    "\n",
    "- Create `X` from selected features (your choice) and set `y` as the `price` column\n",
    "- Split `X` and y into training and test sets"
   ]
  },
  {
   "cell_type": "code",
   "execution_count": 10,
   "metadata": {},
   "outputs": [],
   "source": [
    "\n",
    "X = cali_df[['MedInc', 'HouseAge','AveRooms', 'AveBedrms', 'AveOccup']]"
   ]
  },
  {
   "cell_type": "code",
   "execution_count": 11,
   "metadata": {},
   "outputs": [],
   "source": [
    "y = cali_df['price']"
   ]
  },
  {
   "cell_type": "code",
   "execution_count": 12,
   "metadata": {},
   "outputs": [],
   "source": [
    "X_train, X_test, y_train, y_test = train_test_split(X, y, random_state=42)"
   ]
  },
  {
   "cell_type": "code",
   "execution_count": 13,
   "metadata": {},
   "outputs": [
    {
     "data": {
      "text/plain": [
       "(15480, 5)"
      ]
     },
     "execution_count": 13,
     "metadata": {},
     "output_type": "execute_result"
    }
   ],
   "source": [
    "X_train.shape"
   ]
  },
  {
   "cell_type": "markdown",
   "metadata": {},
   "source": [
    "### Part 3\n",
    "\n",
    "Setup a `Sequential` model with one layer containing 24 nodes.  Make sure to include the output layer and use a `ReLU` activation for the hidden layer."
   ]
  },
  {
   "cell_type": "code",
   "execution_count": 15,
   "metadata": {},
   "outputs": [],
   "source": [
    "model = Sequential([\n",
    "    Input(shape=(X_train.shape[1],)),  \n",
    "    Dense(24, activation='relu'),      \n",
    "    Dense(1, activation='linear')      \n",
    "])"
   ]
  },
  {
   "cell_type": "code",
   "execution_count": 16,
   "metadata": {},
   "outputs": [
    {
     "data": {
      "text/html": [
       "<pre style=\"white-space:pre;overflow-x:auto;line-height:normal;font-family:Menlo,'DejaVu Sans Mono',consolas,'Courier New',monospace\"><span style=\"font-weight: bold\">Model: \"sequential\"</span>\n",
       "</pre>\n"
      ],
      "text/plain": [
       "\u001b[1mModel: \"sequential\"\u001b[0m\n"
      ]
     },
     "metadata": {},
     "output_type": "display_data"
    },
    {
     "data": {
      "text/html": [
       "<pre style=\"white-space:pre;overflow-x:auto;line-height:normal;font-family:Menlo,'DejaVu Sans Mono',consolas,'Courier New',monospace\">┏━━━━━━━━━━━━━━━━━━━━━━━━━━━━━━━━━┳━━━━━━━━━━━━━━━━━━━━━━━━┳━━━━━━━━━━━━━━━┓\n",
       "┃<span style=\"font-weight: bold\"> Layer (type)                    </span>┃<span style=\"font-weight: bold\"> Output Shape           </span>┃<span style=\"font-weight: bold\">       Param # </span>┃\n",
       "┡━━━━━━━━━━━━━━━━━━━━━━━━━━━━━━━━━╇━━━━━━━━━━━━━━━━━━━━━━━━╇━━━━━━━━━━━━━━━┩\n",
       "│ dense (<span style=\"color: #0087ff; text-decoration-color: #0087ff\">Dense</span>)                   │ (<span style=\"color: #00d7ff; text-decoration-color: #00d7ff\">None</span>, <span style=\"color: #00af00; text-decoration-color: #00af00\">24</span>)             │           <span style=\"color: #00af00; text-decoration-color: #00af00\">144</span> │\n",
       "├─────────────────────────────────┼────────────────────────┼───────────────┤\n",
       "│ dense_1 (<span style=\"color: #0087ff; text-decoration-color: #0087ff\">Dense</span>)                 │ (<span style=\"color: #00d7ff; text-decoration-color: #00d7ff\">None</span>, <span style=\"color: #00af00; text-decoration-color: #00af00\">1</span>)              │            <span style=\"color: #00af00; text-decoration-color: #00af00\">25</span> │\n",
       "└─────────────────────────────────┴────────────────────────┴───────────────┘\n",
       "</pre>\n"
      ],
      "text/plain": [
       "┏━━━━━━━━━━━━━━━━━━━━━━━━━━━━━━━━━┳━━━━━━━━━━━━━━━━━━━━━━━━┳━━━━━━━━━━━━━━━┓\n",
       "┃\u001b[1m \u001b[0m\u001b[1mLayer (type)                   \u001b[0m\u001b[1m \u001b[0m┃\u001b[1m \u001b[0m\u001b[1mOutput Shape          \u001b[0m\u001b[1m \u001b[0m┃\u001b[1m \u001b[0m\u001b[1m      Param #\u001b[0m\u001b[1m \u001b[0m┃\n",
       "┡━━━━━━━━━━━━━━━━━━━━━━━━━━━━━━━━━╇━━━━━━━━━━━━━━━━━━━━━━━━╇━━━━━━━━━━━━━━━┩\n",
       "│ dense (\u001b[38;5;33mDense\u001b[0m)                   │ (\u001b[38;5;45mNone\u001b[0m, \u001b[38;5;34m24\u001b[0m)             │           \u001b[38;5;34m144\u001b[0m │\n",
       "├─────────────────────────────────┼────────────────────────┼───────────────┤\n",
       "│ dense_1 (\u001b[38;5;33mDense\u001b[0m)                 │ (\u001b[38;5;45mNone\u001b[0m, \u001b[38;5;34m1\u001b[0m)              │            \u001b[38;5;34m25\u001b[0m │\n",
       "└─────────────────────────────────┴────────────────────────┴───────────────┘\n"
      ]
     },
     "metadata": {},
     "output_type": "display_data"
    },
    {
     "data": {
      "text/html": [
       "<pre style=\"white-space:pre;overflow-x:auto;line-height:normal;font-family:Menlo,'DejaVu Sans Mono',consolas,'Courier New',monospace\"><span style=\"font-weight: bold\"> Total params: </span><span style=\"color: #00af00; text-decoration-color: #00af00\">169</span> (676.00 B)\n",
       "</pre>\n"
      ],
      "text/plain": [
       "\u001b[1m Total params: \u001b[0m\u001b[38;5;34m169\u001b[0m (676.00 B)\n"
      ]
     },
     "metadata": {},
     "output_type": "display_data"
    },
    {
     "data": {
      "text/html": [
       "<pre style=\"white-space:pre;overflow-x:auto;line-height:normal;font-family:Menlo,'DejaVu Sans Mono',consolas,'Courier New',monospace\"><span style=\"font-weight: bold\"> Trainable params: </span><span style=\"color: #00af00; text-decoration-color: #00af00\">169</span> (676.00 B)\n",
       "</pre>\n"
      ],
      "text/plain": [
       "\u001b[1m Trainable params: \u001b[0m\u001b[38;5;34m169\u001b[0m (676.00 B)\n"
      ]
     },
     "metadata": {},
     "output_type": "display_data"
    },
    {
     "data": {
      "text/html": [
       "<pre style=\"white-space:pre;overflow-x:auto;line-height:normal;font-family:Menlo,'DejaVu Sans Mono',consolas,'Courier New',monospace\"><span style=\"font-weight: bold\"> Non-trainable params: </span><span style=\"color: #00af00; text-decoration-color: #00af00\">0</span> (0.00 B)\n",
       "</pre>\n"
      ],
      "text/plain": [
       "\u001b[1m Non-trainable params: \u001b[0m\u001b[38;5;34m0\u001b[0m (0.00 B)\n"
      ]
     },
     "metadata": {},
     "output_type": "display_data"
    }
   ],
   "source": [
    "\n",
    "model.summary()"
   ]
  },
  {
   "cell_type": "markdown",
   "metadata": {},
   "source": [
    "`Compile` the network using an adam optimizer and appropriate loss function with the mean squared error metric."
   ]
  },
  {
   "cell_type": "code",
   "execution_count": 18,
   "metadata": {},
   "outputs": [],
   "source": [
    "model.compile(optimizer='adam', loss='mse', metrics=['mae'])"
   ]
  },
  {
   "cell_type": "code",
   "execution_count": 19,
   "metadata": {},
   "outputs": [
    {
     "data": {
      "text/plain": [
       "<Sequential name=sequential, built=True>"
      ]
     },
     "execution_count": 19,
     "metadata": {},
     "output_type": "execute_result"
    }
   ],
   "source": [
    "model"
   ]
  },
  {
   "cell_type": "markdown",
   "metadata": {},
   "source": [
    "### Part 4\n",
    "\n",
    "Fit the model on the training data with 100 epochs (and suppress the output with `verbose = 0`). Save the fit model to the variable `history`."
   ]
  },
  {
   "cell_type": "code",
   "execution_count": 21,
   "metadata": {},
   "outputs": [],
   "source": [
    "history= model.fit(X_train, y_train, validation_data=(X_test, y_test),  epochs=100, verbose=0)"
   ]
  },
  {
   "cell_type": "code",
   "execution_count": null,
   "metadata": {},
   "outputs": [],
   "source": []
  },
  {
   "cell_type": "markdown",
   "metadata": {},
   "source": [
    "### Part 5\n",
    "\n",
    "Use matplotlib to create side-by-side subplots showing:\n",
    "\n",
    "- Training loss vs validation loss\n",
    "- Training mean squared error vs validation mean squared error\n",
    "- You can plot these metrics from the training history."
   ]
  },
  {
   "cell_type": "code",
   "execution_count": 23,
   "metadata": {},
   "outputs": [
    {
     "data": {
      "text/plain": [
       "{'loss': [12.877928733825684,\n",
       "  7.762238502502441,\n",
       "  2.6185007095336914,\n",
       "  0.8662077188491821,\n",
       "  0.654727578163147,\n",
       "  0.6337423324584961,\n",
       "  0.6349086761474609,\n",
       "  0.6156767010688782,\n",
       "  0.6403628587722778,\n",
       "  0.6054459810256958,\n",
       "  0.6438763737678528,\n",
       "  0.6186754703521729,\n",
       "  0.5727875232696533,\n",
       "  0.7025856971740723,\n",
       "  0.5825940370559692,\n",
       "  0.5474881529808044,\n",
       "  0.8192217350006104,\n",
       "  0.5300772190093994,\n",
       "  0.7489989399909973,\n",
       "  0.5130060911178589,\n",
       "  0.5132099986076355,\n",
       "  0.5665631890296936,\n",
       "  0.5033238530158997,\n",
       "  0.5080366134643555,\n",
       "  0.7384743094444275,\n",
       "  0.553180992603302,\n",
       "  1.602867841720581,\n",
       "  0.519112229347229,\n",
       "  0.5008425712585449,\n",
       "  0.490151047706604,\n",
       "  0.49214547872543335,\n",
       "  0.49906471371650696,\n",
       "  0.4932684600353241,\n",
       "  0.5798472762107849,\n",
       "  0.4876353442668915,\n",
       "  0.8760569095611572,\n",
       "  0.48265668749809265,\n",
       "  0.5135172605514526,\n",
       "  0.5694969892501831,\n",
       "  0.48974910378456116,\n",
       "  0.4901184141635895,\n",
       "  0.8106589317321777,\n",
       "  0.5047698616981506,\n",
       "  0.4813840687274933,\n",
       "  0.5090578198432922,\n",
       "  0.7222104072570801,\n",
       "  0.4773601293563843,\n",
       "  0.48586347699165344,\n",
       "  0.5620771050453186,\n",
       "  1.1956446170806885,\n",
       "  0.5098243355751038,\n",
       "  0.47927889227867126,\n",
       "  0.47850656509399414,\n",
       "  0.5095391273498535,\n",
       "  0.47789666056632996,\n",
       "  0.49903419613838196,\n",
       "  0.4780879616737366,\n",
       "  0.8018430471420288,\n",
       "  0.4968375265598297,\n",
       "  0.5367898941040039,\n",
       "  0.4716005027294159,\n",
       "  0.4725262522697449,\n",
       "  0.49177736043930054,\n",
       "  0.5811037421226501,\n",
       "  0.7601117491722107,\n",
       "  0.47131043672561646,\n",
       "  0.5589478015899658,\n",
       "  0.48540759086608887,\n",
       "  0.4624912440776825,\n",
       "  0.4649452269077301,\n",
       "  0.72805255651474,\n",
       "  0.5056981444358826,\n",
       "  0.4613586366176605,\n",
       "  0.5906311869621277,\n",
       "  0.47483837604522705,\n",
       "  0.4734790623188019,\n",
       "  0.5962622761726379,\n",
       "  0.5030158758163452,\n",
       "  0.4589400887489319,\n",
       "  0.7257751822471619,\n",
       "  0.4942200481891632,\n",
       "  0.4579583406448364,\n",
       "  0.4554480016231537,\n",
       "  0.5091727375984192,\n",
       "  0.4561973512172699,\n",
       "  0.4907014071941376,\n",
       "  0.4646186828613281,\n",
       "  0.5023547410964966,\n",
       "  0.5498234629631042,\n",
       "  0.4946613013744354,\n",
       "  0.4572758078575134,\n",
       "  0.5257671475410461,\n",
       "  0.617790162563324,\n",
       "  0.476815789937973,\n",
       "  0.45200589299201965,\n",
       "  0.4507136940956116,\n",
       "  0.45200732350349426,\n",
       "  0.4519849419593811,\n",
       "  0.4740615785121918,\n",
       "  0.5561371445655823],\n",
       " 'mae': [0.8334664702415466,\n",
       "  0.6863774061203003,\n",
       "  0.624296247959137,\n",
       "  0.5918614864349365,\n",
       "  0.5802609324455261,\n",
       "  0.5742071270942688,\n",
       "  0.5679129362106323,\n",
       "  0.5638205409049988,\n",
       "  0.562089204788208,\n",
       "  0.5578790307044983,\n",
       "  0.5561549663543701,\n",
       "  0.5516331195831299,\n",
       "  0.54557865858078,\n",
       "  0.5534849166870117,\n",
       "  0.5418050289154053,\n",
       "  0.5373563766479492,\n",
       "  0.5404798984527588,\n",
       "  0.5303112864494324,\n",
       "  0.5351628661155701,\n",
       "  0.5211766362190247,\n",
       "  0.5215439200401306,\n",
       "  0.5235982537269592,\n",
       "  0.515168309211731,\n",
       "  0.5163167715072632,\n",
       "  0.5232985019683838,\n",
       "  0.5235849022865295,\n",
       "  0.5465180277824402,\n",
       "  0.5128971338272095,\n",
       "  0.5120152235031128,\n",
       "  0.5112351179122925,\n",
       "  0.5100314021110535,\n",
       "  0.5095395445823669,\n",
       "  0.5103024244308472,\n",
       "  0.5175453424453735,\n",
       "  0.5083214640617371,\n",
       "  0.5308263897895813,\n",
       "  0.5071491599082947,\n",
       "  0.5111556649208069,\n",
       "  0.5117577314376831,\n",
       "  0.5065957903862,\n",
       "  0.5085237622261047,\n",
       "  0.5272974967956543,\n",
       "  0.5069636106491089,\n",
       "  0.5059829950332642,\n",
       "  0.5083751678466797,\n",
       "  0.5175364017486572,\n",
       "  0.5041110515594482,\n",
       "  0.5051557421684265,\n",
       "  0.5093496441841125,\n",
       "  0.530367374420166,\n",
       "  0.5061860680580139,\n",
       "  0.5051571130752563,\n",
       "  0.5052604079246521,\n",
       "  0.5060580372810364,\n",
       "  0.5053500533103943,\n",
       "  0.5063801407814026,\n",
       "  0.5059533715248108,\n",
       "  0.5224802494049072,\n",
       "  0.5058899521827698,\n",
       "  0.5065281987190247,\n",
       "  0.5026030540466309,\n",
       "  0.5021515488624573,\n",
       "  0.5058007836341858,\n",
       "  0.5086463093757629,\n",
       "  0.5203093886375427,\n",
       "  0.5010066032409668,\n",
       "  0.5086808800697327,\n",
       "  0.4998936057090759,\n",
       "  0.49741894006729126,\n",
       "  0.49874719977378845,\n",
       "  0.514792263507843,\n",
       "  0.5002101063728333,\n",
       "  0.49703502655029297,\n",
       "  0.505596399307251,\n",
       "  0.49824461340904236,\n",
       "  0.4974735975265503,\n",
       "  0.5028657913208008,\n",
       "  0.5012636184692383,\n",
       "  0.494961142539978,\n",
       "  0.5087552666664124,\n",
       "  0.49744006991386414,\n",
       "  0.49360814690589905,\n",
       "  0.49228280782699585,\n",
       "  0.4956190884113312,\n",
       "  0.49297595024108887,\n",
       "  0.4953846335411072,\n",
       "  0.49330323934555054,\n",
       "  0.49772921204566956,\n",
       "  0.49599719047546387,\n",
       "  0.4960804879665375,\n",
       "  0.4919160008430481,\n",
       "  0.49846091866493225,\n",
       "  0.5015948414802551,\n",
       "  0.4933193325996399,\n",
       "  0.49119991064071655,\n",
       "  0.48855680227279663,\n",
       "  0.4893454611301422,\n",
       "  0.4898323118686676,\n",
       "  0.4926317036151886,\n",
       "  0.49687308073043823],\n",
       " 'val_loss': [0.894560694694519,\n",
       "  0.7086930274963379,\n",
       "  0.641230046749115,\n",
       "  0.6086953282356262,\n",
       "  0.5972704291343689,\n",
       "  0.5833379030227661,\n",
       "  0.5851922035217285,\n",
       "  0.5988743305206299,\n",
       "  0.563112735748291,\n",
       "  0.5604040622711182,\n",
       "  0.5750366449356079,\n",
       "  0.5579021573066711,\n",
       "  0.5870343446731567,\n",
       "  0.5580701231956482,\n",
       "  0.5442125797271729,\n",
       "  0.5401834845542908,\n",
       "  0.5280914306640625,\n",
       "  0.5208756327629089,\n",
       "  0.5210441946983337,\n",
       "  0.5228962302207947,\n",
       "  0.5951568484306335,\n",
       "  0.5084162950515747,\n",
       "  0.503910481929779,\n",
       "  0.5252252817153931,\n",
       "  0.5122279524803162,\n",
       "  0.5417089462280273,\n",
       "  0.5021790266036987,\n",
       "  0.49941131472587585,\n",
       "  0.5147807002067566,\n",
       "  0.49210816621780396,\n",
       "  0.4942606985569,\n",
       "  0.5030571222305298,\n",
       "  0.4908270239830017,\n",
       "  0.5130026936531067,\n",
       "  0.4893726110458374,\n",
       "  0.5310806632041931,\n",
       "  0.48954319953918457,\n",
       "  0.4866675138473511,\n",
       "  0.5199362635612488,\n",
       "  0.48511654138565063,\n",
       "  0.4934694170951843,\n",
       "  0.49087586998939514,\n",
       "  0.48461198806762695,\n",
       "  0.4801139831542969,\n",
       "  0.48319801688194275,\n",
       "  0.4854944944381714,\n",
       "  0.4978884756565094,\n",
       "  0.48719823360443115,\n",
       "  0.4888443350791931,\n",
       "  0.48351502418518066,\n",
       "  0.48947572708129883,\n",
       "  0.47814303636550903,\n",
       "  0.4855579137802124,\n",
       "  0.4840110242366791,\n",
       "  0.497336208820343,\n",
       "  0.48133715987205505,\n",
       "  0.4782920181751251,\n",
       "  0.5072782039642334,\n",
       "  0.48115384578704834,\n",
       "  0.47979581356048584,\n",
       "  0.4772157669067383,\n",
       "  0.4808472692966461,\n",
       "  0.47567853331565857,\n",
       "  0.5327627658843994,\n",
       "  0.47494757175445557,\n",
       "  0.4744056761264801,\n",
       "  0.4707215428352356,\n",
       "  0.4744322896003723,\n",
       "  0.47666460275650024,\n",
       "  0.47336193919181824,\n",
       "  0.4687954783439636,\n",
       "  0.4850520193576813,\n",
       "  0.46753114461898804,\n",
       "  0.46532630920410156,\n",
       "  0.47264379262924194,\n",
       "  0.4618871808052063,\n",
       "  0.6491110920906067,\n",
       "  0.46073853969573975,\n",
       "  0.5001404881477356,\n",
       "  0.4628802239894867,\n",
       "  0.45910176634788513,\n",
       "  0.4598258137702942,\n",
       "  0.4719599783420563,\n",
       "  0.46061599254608154,\n",
       "  0.4600723683834076,\n",
       "  0.46023663878440857,\n",
       "  0.4617186188697815,\n",
       "  0.47122177481651306,\n",
       "  0.4635530710220337,\n",
       "  0.4645139276981354,\n",
       "  0.46245619654655457,\n",
       "  0.4666142463684082,\n",
       "  0.4621199369430542,\n",
       "  0.4579908847808838,\n",
       "  0.4583589732646942,\n",
       "  0.4635219871997833,\n",
       "  0.45870208740234375,\n",
       "  0.46710464358329773,\n",
       "  0.4588705897331238,\n",
       "  0.46672359108924866],\n",
       " 'val_mae': [0.6949454545974731,\n",
       "  0.6390854120254517,\n",
       "  0.578830361366272,\n",
       "  0.5772787928581238,\n",
       "  0.5720096826553345,\n",
       "  0.5605807900428772,\n",
       "  0.573391854763031,\n",
       "  0.5474402904510498,\n",
       "  0.5571173429489136,\n",
       "  0.555081844329834,\n",
       "  0.5726255178451538,\n",
       "  0.5586469769477844,\n",
       "  0.5670296549797058,\n",
       "  0.5648134350776672,\n",
       "  0.5466380715370178,\n",
       "  0.5492551326751709,\n",
       "  0.5229610204696655,\n",
       "  0.5250950455665588,\n",
       "  0.515911877155304,\n",
       "  0.5317246913909912,\n",
       "  0.5983580946922302,\n",
       "  0.509285032749176,\n",
       "  0.5159459114074707,\n",
       "  0.5203542113304138,\n",
       "  0.5084674954414368,\n",
       "  0.5116692781448364,\n",
       "  0.5073760747909546,\n",
       "  0.5022748112678528,\n",
       "  0.5359671115875244,\n",
       "  0.5118579268455505,\n",
       "  0.5029969215393066,\n",
       "  0.503363847732544,\n",
       "  0.5070170760154724,\n",
       "  0.5361579060554504,\n",
       "  0.5028825402259827,\n",
       "  0.5134230256080627,\n",
       "  0.5138081312179565,\n",
       "  0.5120869278907776,\n",
       "  0.5053884387016296,\n",
       "  0.5081760883331299,\n",
       "  0.500336229801178,\n",
       "  0.5048999786376953,\n",
       "  0.5127214193344116,\n",
       "  0.5022745728492737,\n",
       "  0.503678023815155,\n",
       "  0.4956323802471161,\n",
       "  0.5228472352027893,\n",
       "  0.5065795183181763,\n",
       "  0.5026829242706299,\n",
       "  0.5014954805374146,\n",
       "  0.5224564671516418,\n",
       "  0.4973681569099426,\n",
       "  0.49673229455947876,\n",
       "  0.49693235754966736,\n",
       "  0.5296599864959717,\n",
       "  0.5130357146263123,\n",
       "  0.5040484070777893,\n",
       "  0.5138433575630188,\n",
       "  0.5094332695007324,\n",
       "  0.5078281760215759,\n",
       "  0.5062357187271118,\n",
       "  0.4932757318019867,\n",
       "  0.4984630048274994,\n",
       "  0.5340185761451721,\n",
       "  0.4980607032775879,\n",
       "  0.49780210852622986,\n",
       "  0.49974524974823,\n",
       "  0.491036593914032,\n",
       "  0.49116969108581543,\n",
       "  0.5032466053962708,\n",
       "  0.49190810322761536,\n",
       "  0.5235222578048706,\n",
       "  0.4944917559623718,\n",
       "  0.49589261412620544,\n",
       "  0.5091012120246887,\n",
       "  0.4904197156429291,\n",
       "  0.586156964302063,\n",
       "  0.49472907185554504,\n",
       "  0.49712255597114563,\n",
       "  0.48919469118118286,\n",
       "  0.4909951984882355,\n",
       "  0.4946684241294861,\n",
       "  0.5084077715873718,\n",
       "  0.49233484268188477,\n",
       "  0.4931248426437378,\n",
       "  0.49485668540000916,\n",
       "  0.4861837327480316,\n",
       "  0.49983829259872437,\n",
       "  0.4857986867427826,\n",
       "  0.4919174313545227,\n",
       "  0.48740220069885254,\n",
       "  0.4904206395149231,\n",
       "  0.4852732717990875,\n",
       "  0.4940009117126465,\n",
       "  0.48955830931663513,\n",
       "  0.5053358674049377,\n",
       "  0.4999789893627167,\n",
       "  0.5043253302574158,\n",
       "  0.48449137806892395,\n",
       "  0.4943489134311676]}"
      ]
     },
     "execution_count": 23,
     "metadata": {},
     "output_type": "execute_result"
    }
   ],
   "source": [
    "history.history"
   ]
  },
  {
   "cell_type": "code",
   "execution_count": 24,
   "metadata": {},
   "outputs": [
    {
     "data": {
      "text/plain": [
       "dict_keys(['loss', 'mae', 'val_loss', 'val_mae'])"
      ]
     },
     "execution_count": 24,
     "metadata": {},
     "output_type": "execute_result"
    }
   ],
   "source": [
    "history.history.keys()"
   ]
  },
  {
   "cell_type": "code",
   "execution_count": 25,
   "metadata": {},
   "outputs": [
    {
     "data": {
      "image/png": "[encoded data removed]",
      "text/plain": [
       "<Figure size 1000x600 with 1 Axes>"
      ]
     },
     "metadata": {},
     "output_type": "display_data"
    }
   ],
   "source": [
    "training_loss = history.history['loss']\n",
    "validation_loss = history.history.get('val_loss') \n",
    "\n",
    "# Plotting\n",
    "plt.figure(figsize=(10, 6))\n",
    "plt.plot(training_loss, label='Training Loss')\n",
    "plt.plot(validation_loss, label='Validation Loss')\n",
    "plt.title('Training vs. Validation Loss')\n",
    "plt.xlabel('Epochs')\n",
    "plt.ylabel('Loss')\n",
    "plt.legend()\n",
    "plt.show()"
   ]
  },
  {
   "cell_type": "code",
   "execution_count": 26,
   "metadata": {},
   "outputs": [
    {
     "data": {
      "image/png": "[encoded data removed]",
      "text/plain": [
       "<Figure size 1000x600 with 1 Axes>"
      ]
     },
     "metadata": {},
     "output_type": "display_data"
    }
   ],
   "source": [
    "trainingmae_loss = history.history['mae']\n",
    "validationmae_loss = history.history.get('val_mae') \n",
    "\n",
    "# Plotting\n",
    "plt.figure(figsize=(10, 6))\n",
    "plt.plot(trainingmae_loss, label='Training Mae Loss')\n",
    "plt.plot(validationmae_loss, label='Validation Mae Loss')\n",
    "plt.title('Training MAE vs. Validation MAE Loss')\n",
    "plt.xlabel('Epochs')\n",
    "plt.ylabel('Loss')\n",
    "plt.legend()\n",
    "plt.show()"
   ]
  },
  {
   "cell_type": "markdown",
   "metadata": {},
   "source": [
    "### Part 6\n",
    "\n",
    "Create a second, deeper network with the following architecture:\n",
    "\n",
    "- First hidden layer: 64 nodes with ReLU activation\n",
    "- Second hidden layer: 128 nodes with ReLU activation\n",
    "- Third hidden layer: 64 nodes with ReLU activation\n",
    "- Output layer: [appropriate nodes for your classification task]"
   ]
  },
  {
   "cell_type": "code",
   "execution_count": 28,
   "metadata": {},
   "outputs": [],
   "source": [
    "# Define the model\n",
    "second_model = Sequential([\n",
    "    Input(shape=(X_train.shape[1],)),  \n",
    "    Dense(64, activation='relu'),      \n",
    "    Dense(128, activation='relu'),     \n",
    "    Dense(64, activation='relu'),      \n",
    "    Dense(1, activation='linear')    \n",
    "])\n",
    "\n",
    "\n"
   ]
  },
  {
   "cell_type": "code",
   "execution_count": 29,
   "metadata": {},
   "outputs": [],
   "source": [
    "second_model.compile(optimizer='adam',           \n",
    "                     loss='mse',                   \n",
    "                     metrics=['mae'])              \n"
   ]
  },
  {
   "cell_type": "code",
   "execution_count": 30,
   "metadata": {},
   "outputs": [
    {
     "data": {
      "text/html": [
       "<pre style=\"white-space:pre;overflow-x:auto;line-height:normal;font-family:Menlo,'DejaVu Sans Mono',consolas,'Courier New',monospace\"><span style=\"font-weight: bold\">Model: \"sequential_1\"</span>\n",
       "</pre>\n"
      ],
      "text/plain": [
       "\u001b[1mModel: \"sequential_1\"\u001b[0m\n"
      ]
     },
     "metadata": {},
     "output_type": "display_data"
    },
    {
     "data": {
      "text/html": [
       "<pre style=\"white-space:pre;overflow-x:auto;line-height:normal;font-family:Menlo,'DejaVu Sans Mono',consolas,'Courier New',monospace\">┏━━━━━━━━━━━━━━━━━━━━━━━━━━━━━━━━━┳━━━━━━━━━━━━━━━━━━━━━━━━┳━━━━━━━━━━━━━━━┓\n",
       "┃<span style=\"font-weight: bold\"> Layer (type)                    </span>┃<span style=\"font-weight: bold\"> Output Shape           </span>┃<span style=\"font-weight: bold\">       Param # </span>┃\n",
       "┡━━━━━━━━━━━━━━━━━━━━━━━━━━━━━━━━━╇━━━━━━━━━━━━━━━━━━━━━━━━╇━━━━━━━━━━━━━━━┩\n",
       "│ dense_2 (<span style=\"color: #0087ff; text-decoration-color: #0087ff\">Dense</span>)                 │ (<span style=\"color: #00d7ff; text-decoration-color: #00d7ff\">None</span>, <span style=\"color: #00af00; text-decoration-color: #00af00\">64</span>)             │           <span style=\"color: #00af00; text-decoration-color: #00af00\">384</span> │\n",
       "├─────────────────────────────────┼────────────────────────┼───────────────┤\n",
       "│ dense_3 (<span style=\"color: #0087ff; text-decoration-color: #0087ff\">Dense</span>)                 │ (<span style=\"color: #00d7ff; text-decoration-color: #00d7ff\">None</span>, <span style=\"color: #00af00; text-decoration-color: #00af00\">128</span>)            │         <span style=\"color: #00af00; text-decoration-color: #00af00\">8,320</span> │\n",
       "├─────────────────────────────────┼────────────────────────┼───────────────┤\n",
       "│ dense_4 (<span style=\"color: #0087ff; text-decoration-color: #0087ff\">Dense</span>)                 │ (<span style=\"color: #00d7ff; text-decoration-color: #00d7ff\">None</span>, <span style=\"color: #00af00; text-decoration-color: #00af00\">64</span>)             │         <span style=\"color: #00af00; text-decoration-color: #00af00\">8,256</span> │\n",
       "├─────────────────────────────────┼────────────────────────┼───────────────┤\n",
       "│ dense_5 (<span style=\"color: #0087ff; text-decoration-color: #0087ff\">Dense</span>)                 │ (<span style=\"color: #00d7ff; text-decoration-color: #00d7ff\">None</span>, <span style=\"color: #00af00; text-decoration-color: #00af00\">1</span>)              │            <span style=\"color: #00af00; text-decoration-color: #00af00\">65</span> │\n",
       "└─────────────────────────────────┴────────────────────────┴───────────────┘\n",
       "</pre>\n"
      ],
      "text/plain": [
       "┏━━━━━━━━━━━━━━━━━━━━━━━━━━━━━━━━━┳━━━━━━━━━━━━━━━━━━━━━━━━┳━━━━━━━━━━━━━━━┓\n",
       "┃\u001b[1m \u001b[0m\u001b[1mLayer (type)                   \u001b[0m\u001b[1m \u001b[0m┃\u001b[1m \u001b[0m\u001b[1mOutput Shape          \u001b[0m\u001b[1m \u001b[0m┃\u001b[1m \u001b[0m\u001b[1m      Param #\u001b[0m\u001b[1m \u001b[0m┃\n",
       "┡━━━━━━━━━━━━━━━━━━━━━━━━━━━━━━━━━╇━━━━━━━━━━━━━━━━━━━━━━━━╇━━━━━━━━━━━━━━━┩\n",
       "│ dense_2 (\u001b[38;5;33mDense\u001b[0m)                 │ (\u001b[38;5;45mNone\u001b[0m, \u001b[38;5;34m64\u001b[0m)             │           \u001b[38;5;34m384\u001b[0m │\n",
       "├─────────────────────────────────┼────────────────────────┼───────────────┤\n",
       "│ dense_3 (\u001b[38;5;33mDense\u001b[0m)                 │ (\u001b[38;5;45mNone\u001b[0m, \u001b[38;5;34m128\u001b[0m)            │         \u001b[38;5;34m8,320\u001b[0m │\n",
       "├─────────────────────────────────┼────────────────────────┼───────────────┤\n",
       "│ dense_4 (\u001b[38;5;33mDense\u001b[0m)                 │ (\u001b[38;5;45mNone\u001b[0m, \u001b[38;5;34m64\u001b[0m)             │         \u001b[38;5;34m8,256\u001b[0m │\n",
       "├─────────────────────────────────┼────────────────────────┼───────────────┤\n",
       "│ dense_5 (\u001b[38;5;33mDense\u001b[0m)                 │ (\u001b[38;5;45mNone\u001b[0m, \u001b[38;5;34m1\u001b[0m)              │            \u001b[38;5;34m65\u001b[0m │\n",
       "└─────────────────────────────────┴────────────────────────┴───────────────┘\n"
      ]
     },
     "metadata": {},
     "output_type": "display_data"
    },
    {
     "data": {
      "text/html": [
       "<pre style=\"white-space:pre;overflow-x:auto;line-height:normal;font-family:Menlo,'DejaVu Sans Mono',consolas,'Courier New',monospace\"><span style=\"font-weight: bold\"> Total params: </span><span style=\"color: #00af00; text-decoration-color: #00af00\">17,025</span> (66.50 KB)\n",
       "</pre>\n"
      ],
      "text/plain": [
       "\u001b[1m Total params: \u001b[0m\u001b[38;5;34m17,025\u001b[0m (66.50 KB)\n"
      ]
     },
     "metadata": {},
     "output_type": "display_data"
    },
    {
     "data": {
      "text/html": [
       "<pre style=\"white-space:pre;overflow-x:auto;line-height:normal;font-family:Menlo,'DejaVu Sans Mono',consolas,'Courier New',monospace\"><span style=\"font-weight: bold\"> Trainable params: </span><span style=\"color: #00af00; text-decoration-color: #00af00\">17,025</span> (66.50 KB)\n",
       "</pre>\n"
      ],
      "text/plain": [
       "\u001b[1m Trainable params: \u001b[0m\u001b[38;5;34m17,025\u001b[0m (66.50 KB)\n"
      ]
     },
     "metadata": {},
     "output_type": "display_data"
    },
    {
     "data": {
      "text/html": [
       "<pre style=\"white-space:pre;overflow-x:auto;line-height:normal;font-family:Menlo,'DejaVu Sans Mono',consolas,'Courier New',monospace\"><span style=\"font-weight: bold\"> Non-trainable params: </span><span style=\"color: #00af00; text-decoration-color: #00af00\">0</span> (0.00 B)\n",
       "</pre>\n"
      ],
      "text/plain": [
       "\u001b[1m Non-trainable params: \u001b[0m\u001b[38;5;34m0\u001b[0m (0.00 B)\n"
      ]
     },
     "metadata": {},
     "output_type": "display_data"
    }
   ],
   "source": [
    "second_model.summary()"
   ]
  },
  {
   "cell_type": "markdown",
   "metadata": {},
   "source": [
    "### Part 7\n",
    "\n",
    "Add a `BatchNormalization` layer before the first dense layer and retrain the model with the same parameters as before."
   ]
  },
  {
   "cell_type": "markdown",
   "metadata": {},
   "source": [
    "##### Does this change anything?"
   ]
  },
  {
   "cell_type": "code",
   "execution_count": 33,
   "metadata": {},
   "outputs": [],
   "source": [
    "BN_model = Sequential([\n",
    "    Input(shape=(X_train.shape[1],)),  \n",
    "    BatchNormalization(),\n",
    "    Dense(64, activation='relu'),      \n",
    "    Dense(128, activation='relu'),     \n",
    "    Dense(64, activation='relu'),      \n",
    "    Dense(1, activation='linear')    \n",
    "])\n"
   ]
  },
  {
   "cell_type": "code",
   "execution_count": 34,
   "metadata": {},
   "outputs": [],
   "source": [
    "BN_model.compile(optimizer='adam',            \n",
    "                        loss='mse',                 \n",
    "                        metrics=['mae'])           \n"
   ]
  },
  {
   "cell_type": "code",
   "execution_count": null,
   "metadata": {},
   "outputs": [],
   "source": [
    "history_bn = BN_model.fit(X_train, y_train, validation_data=(X_test, y_test), epochs=100, verbose=0)"
   ]
  },
  {
   "cell_type": "code",
   "execution_count": null,
   "metadata": {},
   "outputs": [],
   "source": [
    "BN_model.summary()"
   ]
  },
  {
   "cell_type": "markdown",
   "metadata": {},
   "source": [
    "### Part 8\n",
    "\n",
    "**Early Stopping**  \n",
    "\n",
    "Do we need 100 epochs to effectively train the data?  \n",
    "\n",
    "- Iterate to now include an `EarlyStopping` callback in your model above.  \n",
    "- Set the `patience` equal to 5.  \n"
   ]
  },
  {
   "cell_type": "code",
   "execution_count": null,
   "metadata": {},
   "outputs": [],
   "source": [
    "early_stopping = EarlyStopping(monitor='val_loss',   \n",
    "                               patience=5,          \n",
    "                               restore_best_weights=True, \n",
    "                               verbose=1)       "
   ]
  },
  {
   "cell_type": "code",
   "execution_count": null,
   "metadata": {},
   "outputs": [],
   "source": [
    "history_es = BN_model.fit(X_train, y_train, \n",
    "                                    epochs=100, \n",
    "                                    verbose=0, \n",
    "                                    validation_data=(X_test, y_test),  \n",
    "                                    callbacks=[early_stopping])"
   ]
  },
  {
   "cell_type": "markdown",
   "metadata": {},
   "source": [
    "**How many epochs do you think are appropriate?**"
   ]
  },
  {
   "cell_type": "code",
   "execution_count": null,
   "metadata": {},
   "outputs": [],
   "source": [
    "# The best the result on early stopping is epoch 4, that the model reached its optimal validation performance in training dataset. "
   ]
  },
  {
   "cell_type": "markdown",
   "metadata": {},
   "source": [
    "### Part 9\n",
    "\n",
    "**Dropout**  \n",
    "\n",
    "- Add dropout layers to the model:\n",
    "   - 5% dropout after the second layer\n",
    "   - 20% dropout after the third layer\n",
    "   - Train the model to compare **performance and convergence time**"
   ]
  },
  {
   "cell_type": "code",
   "execution_count": null,
   "metadata": {},
   "outputs": [],
   "source": [
    "model_dp = Sequential([\n",
    "    Input(shape=(X_train.shape[1],)), \n",
    "    Dense(128, activation='relu'),  \n",
    "    Dense(64, activation='relu'), \n",
    "    Dropout(0.05),  # 5% dropout after the second layer\n",
    "    Dense(32, activation='relu'), \n",
    "    Dropout(0.20),  # 20% dropout after the third layer\n",
    "    Dense(1, activation='sigmoid')  \n",
    "])"
   ]
  },
  {
   "cell_type": "code",
   "execution_count": null,
   "metadata": {},
   "outputs": [],
   "source": [
    "model_dp.compile(optimizer='adam',           \n",
    "                     loss='mse',                   \n",
    "                     metrics=['mae'])       \n",
    "\n",
    "hist_dp = model_dp.fit(X_train, y_train,\n",
    "                       epochs=100, verbose=0, \n",
    "                       validation_data=(X_test, y_test),  \n",
    "                       callbacks=[early_stopping])"
   ]
  },
  {
   "cell_type": "markdown",
   "metadata": {},
   "source": [
    "### Part 9 - continued: RMSE vs. Baseline\n",
    "\n",
    "Calculate and compare the RMSE of both the baseline model and your optimized model."
   ]
  },
  {
   "cell_type": "code",
   "execution_count": null,
   "metadata": {},
   "outputs": [],
   "source": [
    "y_baseline = model.predict(X_test)[:, 0]\n",
    "y_optimized = model_dp.predict(X_test)[:, 0]\n",
    "\n",
    "rmse_baseline = root_mean_squared_error(y_test, y_baseline)\n",
    "rmse_optimized = root_mean_squared_error(y_test, y_optimized)\n",
    "\n",
    "\n",
    "print(f\"Baseline Model RMSE: {rmse_baseline}\")\n",
    "print(f\"Optimized Model RMSE: {rmse_optimized}\")"
   ]
  },
  {
   "cell_type": "markdown",
   "metadata": {},
   "source": [
    "### Part 10: Regularization and Scaling\n",
    "\n",
    "Finally, we want to see if regularizing will improve the model.  \n",
    "\n",
    "- Create a model with the same architecture and dropout layers\n",
    "- Add l2 regularization (0.01) to **each** dense layer\n",
    "- Calculate the RMSE and compare it against the baseline model"
   ]
  },
  {
   "cell_type": "code",
   "execution_count": null,
   "metadata": {},
   "outputs": [],
   "source": [
    "model_reg = Sequential([\n",
    "    Input(shape=(X_train.shape[1],)), \n",
    "    Dense(128, activation='relu',kernel_regularizer=l2(0.01)),Dropout(0.05), \n",
    "    Dense(64, activation='relu',kernel_regularizer=l2(0.01)), Dropout(0.20),  \n",
    "    Dense(32, activation='relu',kernel_regularizer=l2(0.01)),  \n",
    "    Dense(1, activation='sigmoid') \n",
    "])\n",
    "\n",
    "\n",
    "model_reg.compile(optimizer='adam',           \n",
    "                     loss='mse',                   \n",
    "                     metrics=['mae'])  \n",
    "\n",
    "\n",
    "hist_reg = model_reg.fit(X_train, y_train,\n",
    "                       epochs=100, verbose=0, \n",
    "                       validation_data=(X_test, y_test),  \n",
    "                       callbacks=[early_stopping])"
   ]
  },
  {
   "cell_type": "markdown",
   "metadata": {},
   "source": [
    "### Part 11: Saving the Model\n",
    "\n",
    "Save your best model in HDF5 format using `model.save(cali_housing.h5)`"
   ]
  },
  {
   "cell_type": "code",
   "execution_count": null,
   "metadata": {},
   "outputs": [],
   "source": [
    "from tensorflow.keras.models import save_model\n",
    "#save_model(model.save(model_reg), 'cali_housing.h5')\n",
    "\n",
    "save_model(model_reg, 'cali_housing.keras')\n",
    "\n",
    "#model_reg.save('cali_housing.h5')"
   ]
  }
 ],
 "metadata": {
  "kernelspec": {
   "display_name": "Python 3 (ipykernel)",
   "language": "python",
   "name": "python3"
  },
  "language_info": {
   "codemirror_mode": {
    "name": "ipython",
    "version": 3
   },
   "file_extension": ".py",
   "mimetype": "text/x-python",
   "name": "python",
   "nbconvert_exporter": "python",
   "pygments_lexer": "ipython3",
   "version": "3.12.4"
  }
 },
 "nbformat": 4,
 "nbformat_minor": 4
}
